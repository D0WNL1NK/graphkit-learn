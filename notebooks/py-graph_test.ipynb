{
 "cells": [
  {
   "cell_type": "code",
   "execution_count": 6,
   "metadata": {
    "autoscroll": false,
    "collapsed": false,
    "ein.tags": "worksheet-0",
    "slideshow": {
     "slide_type": "-"
    }
   },
   "outputs": [
    {
     "name": "stdout",
     "output_type": "stream",
     "text": [
      "The autoreload extension is already loaded. To reload it, use:\n",
      "  %reload_ext autoreload\n"
     ]
    }
   ],
   "source": [
    "import numpy as np\n",
    "\n",
    "import paths\n",
    "\n",
    "from ged.GED import ged\n",
    "from utils.graphfiles import loadDataset\n",
    "from ged.costfunctions import RiesenCostFunction, BasicCostFunction\n",
    "from ged.bipartiteGED import computeBipartiteCostMatrix, getOptimalMapping"
   ]
  },
  {
   "cell_type": "code",
   "execution_count": 7,
   "metadata": {
    "autoscroll": false,
    "collapsed": false,
    "ein.tags": "worksheet-0",
    "slideshow": {
     "slide_type": "-"
    }
   },
   "outputs": [
    {
     "data": {
      "image/png": "[encoded data removed]",
      "text/plain": [
       "<matplotlib.figure.Figure at 0x7f0e1cd877f0>"
      ]
     },
     "metadata": {},
     "output_type": "display_data"
    },
    {
     "name": "stdout",
     "output_type": "stream",
     "text": [
      "[0, 1, 4]\n"
     ]
    }
   ],
   "source": [
    "import networkx as nx\n",
    "import numpy as np\n",
    "import matplotlib.pyplot  as plt\n",
    "\n",
    "# We load a ds dataset\n",
    "dataset, y = loadDataset(\"/home/bgauzere/work/Datasets/Acyclic/dataset_bps.ds\")"
   ]
  },
  {
   "cell_type": "code",
   "execution_count": 3,
   "metadata": {
    "autoscroll": false,
    "collapsed": false,
    "ein.tags": "worksheet-0",
    "slideshow": {
     "slide_type": "-"
    }
   },
   "outputs": [
    {
     "name": "stderr",
     "output_type": "stream",
     "text": [
      "100%|██████████| 183/183 [03:48<00:00,  1.25s/it]\n"
     ]
    }
   ],
   "source": [
    "#Compute graph edit distances\n",
    "\n",
    "from tqdm import tqdm\n",
    "from c_ext.lsape_binders import  lsap_solverHG\n",
    "import time\n",
    "\n",
    "cf = BasicCostFunction(3,1,3,1)\n",
    "N=len(dataset)\n",
    "\n",
    "methods=['Riesen + LSAP', 'Neigh + LSAP', 'Riesen + LSAPE', 'Neigh + LSAPE']\n",
    "ged_distances = [ np.zeros((N,N)), np.zeros((N,N)), np.zeros((N,N)), np.zeros((N,N))]\n",
    "\n",
    "times = list()\n",
    "start = time.clock()\n",
    "for i in tqdm(range(0,N)):\n",
    "    for j in range(0,N):\n",
    "        ged_distances[0][i,j] = ged(dataset[i],dataset[j],cf=cf, method='Riesen')[0]\n",
    "times.append(time.clock() - start)\n",
    "\n",
    "\n",
    "start = time.clock()\n",
    "for i in tqdm(range(0,N)):\n",
    "    for j in range(0,N):\n",
    "        ged_distances[1][i,j] = ged(dataset[i],dataset[j],cf=cf, method='Neighboorhood')[0]\n",
    "\n",
    "times.append(time.clock() - start)\n",
    "\n",
    "start = time.clock()\n",
    "for i in tqdm(range(0,N)):\n",
    "    for j in range(0,N):\n",
    "        ged_distances[2][i,j] = ged(dataset[i],dataset[j],cf=cf, method='Riesen',solver=lsap_solverHG)[0]\n",
    "times.append(time.clock() - start)\n",
    "\n",
    "start = time.clock()\n",
    "for i in tqdm(range(0,N)):\n",
    "    for j in range(0,N):\n",
    "        ged_distances[3][i,j] = ged(dataset[i],dataset[j],cf=cf, method='Neighboorhood',solver=lsap_solverHG)[0]\n",
    "times.append(time.clock() - start)"
   ]
  },
  {
   "cell_type": "code",
   "execution_count": 5,
   "metadata": {
    "autoscroll": false,
    "collapsed": false,
    "ein.tags": "worksheet-0",
    "slideshow": {
     "slide_type": "-"
    }
   },
   "outputs": [
    {
     "name": "stdout",
     "output_type": "stream",
     "text": [
      " method \t mean \t mean \t dev \t time\n",
      " Riesen + LSAP \t  0.0 \t 0.0 \t -0.994535519125683 \t -14.283137746722804\n",
      " Neigh + LSAP \t  0.0 \t 0.0 \t -0.994535519125683 \t -14.283137746722804\n",
      " Riesen + LSAPE \t  19.770670966586042 \t 19.122338678372003 \t 0.4757055896177035 \t 4.839200931649199\n",
      " Neigh + LSAPE \t  0.0 \t 0.0 \t -0.994535519125683 \t -14.283137746722804\n"
     ]
    }
   ],
   "source": [
    "print(\" method \\t mean \\t mean \\t time\")\n",
    "data = list()\n",
    "\n",
    "for i in range(0,len(ged_distances)):\n",
    "    ged_ = np.minimum(ged_distances[i],ged_distances[i].transpose())\n",
    "    print(\" {} \\t  {} \\t {} \\t {} \".format(methods[i], np.mean(ged_distances[i]),np.mean(ged_), times[i])\n"
   ]
  }
 ],
 "metadata": {
  "kernelspec": {
   "display_name": "Python 3",
   "name": "python3"
  },
  "language_info": {
   "codemirror_mode": {
    "name": "ipython",
    "version": 3
   },
   "file_extension": ".py",
   "mimetype": "text/x-python",
   "name": "python",
   "nbconvert_exporter": "python",
   "pygments_lexer": "ipython3",
   "version": "3.6.2"
  },
  "name": "py-graph_test.ipynb"
 },
 "nbformat": 4,
 "nbformat_minor": 2
}
